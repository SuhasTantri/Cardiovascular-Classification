{
  "nbformat": 4,
  "nbformat_minor": 0,
  "metadata": {
    "colab": {
      "name": "Raghavendra Suhas Team Cardiovascular prediction project.ipynb",
      "provenance": [],
      "mount_file_id": "1F3dS2v_CttMx8MbVdpU6KHvs4cT2JJwm",
      "authorship_tag": "ABX9TyPmxJ2ptiSeUsYBZUs3G+aR",
      "include_colab_link": true
    },
    "kernelspec": {
      "name": "python3",
      "display_name": "Python 3"
    },
    "language_info": {
      "name": "python"
    }
  },
  "cells": [
    {
      "cell_type": "markdown",
      "metadata": {
        "id": "view-in-github",
        "colab_type": "text"
      },
      "source": [
        "<a href=\"https://colab.research.google.com/github/SuhasTantri/Cardiovascular-Classification/blob/main/Raghavendra_Suhas_Team_Cardiovascular_prediction_project.ipynb\" target=\"_parent\"><img src=\"https://colab.research.google.com/assets/colab-badge.svg\" alt=\"Open In Colab\"/></a>"
      ]
    },
    {
      "cell_type": "code",
      "metadata": {
        "id": "KU2Seiiy8Rx-"
      },
      "source": [
        "# Importing the necessary libraries\n",
        "import numpy as np\n",
        "import pandas as pd\n",
        "from numpy import math\n",
        "import seaborn as sns\n",
        "import matplotlib.pyplot as plt\n",
        "import math\n",
        "import warnings\n",
        "warnings.filterwarnings('ignore')"
      ],
      "execution_count": 29,
      "outputs": []
    },
    {
      "cell_type": "code",
      "metadata": {
        "colab": {
          "base_uri": "https://localhost:8080/"
        },
        "id": "lTJyDa3zXAf1",
        "outputId": "afca85b6-4192-4976-f2ec-0a06d7a3f4e5"
      },
      "source": [
        "# Mounting the drive\n",
        "from google.colab import drive\n",
        "drive.mount('/content/drive')"
      ],
      "execution_count": 30,
      "outputs": [
        {
          "output_type": "stream",
          "name": "stdout",
          "text": [
            "Drive already mounted at /content/drive; to attempt to forcibly remount, call drive.mount(\"/content/drive\", force_remount=True).\n"
          ]
        }
      ]
    },
    {
      "cell_type": "code",
      "metadata": {
        "id": "Jj3jGMZ28tzg"
      },
      "source": [
        "3 #Reading the dataset\n",
        "df=pd.read_csv('/content/drive/MyDrive/Suhas Classification Project/Copy of data_cardiovascular_risk.csv')"
      ],
      "execution_count": 31,
      "outputs": []
    },
    {
      "cell_type": "code",
      "metadata": {
        "colab": {
          "base_uri": "https://localhost:8080/",
          "height": 203
        },
        "id": "Q3w3DWXq9FG9",
        "outputId": "cac02894-82ac-4175-b73e-42afecafdfd7"
      },
      "source": [
        "# A look at the dataset\n",
        "df.head()"
      ],
      "execution_count": 32,
      "outputs": [
        {
          "output_type": "execute_result",
          "data": {
            "text/html": [
              "<div>\n",
              "<style scoped>\n",
              "    .dataframe tbody tr th:only-of-type {\n",
              "        vertical-align: middle;\n",
              "    }\n",
              "\n",
              "    .dataframe tbody tr th {\n",
              "        vertical-align: top;\n",
              "    }\n",
              "\n",
              "    .dataframe thead th {\n",
              "        text-align: right;\n",
              "    }\n",
              "</style>\n",
              "<table border=\"1\" class=\"dataframe\">\n",
              "  <thead>\n",
              "    <tr style=\"text-align: right;\">\n",
              "      <th></th>\n",
              "      <th>id</th>\n",
              "      <th>age</th>\n",
              "      <th>education</th>\n",
              "      <th>sex</th>\n",
              "      <th>is_smoking</th>\n",
              "      <th>cigsPerDay</th>\n",
              "      <th>BPMeds</th>\n",
              "      <th>prevalentStroke</th>\n",
              "      <th>prevalentHyp</th>\n",
              "      <th>diabetes</th>\n",
              "      <th>totChol</th>\n",
              "      <th>sysBP</th>\n",
              "      <th>diaBP</th>\n",
              "      <th>BMI</th>\n",
              "      <th>heartRate</th>\n",
              "      <th>glucose</th>\n",
              "      <th>TenYearCHD</th>\n",
              "    </tr>\n",
              "  </thead>\n",
              "  <tbody>\n",
              "    <tr>\n",
              "      <th>0</th>\n",
              "      <td>0</td>\n",
              "      <td>64</td>\n",
              "      <td>2.0</td>\n",
              "      <td>F</td>\n",
              "      <td>YES</td>\n",
              "      <td>3.0</td>\n",
              "      <td>0.0</td>\n",
              "      <td>0</td>\n",
              "      <td>0</td>\n",
              "      <td>0</td>\n",
              "      <td>221.0</td>\n",
              "      <td>148.0</td>\n",
              "      <td>85.0</td>\n",
              "      <td>NaN</td>\n",
              "      <td>90.0</td>\n",
              "      <td>80.0</td>\n",
              "      <td>1</td>\n",
              "    </tr>\n",
              "    <tr>\n",
              "      <th>1</th>\n",
              "      <td>1</td>\n",
              "      <td>36</td>\n",
              "      <td>4.0</td>\n",
              "      <td>M</td>\n",
              "      <td>NO</td>\n",
              "      <td>0.0</td>\n",
              "      <td>0.0</td>\n",
              "      <td>0</td>\n",
              "      <td>1</td>\n",
              "      <td>0</td>\n",
              "      <td>212.0</td>\n",
              "      <td>168.0</td>\n",
              "      <td>98.0</td>\n",
              "      <td>29.77</td>\n",
              "      <td>72.0</td>\n",
              "      <td>75.0</td>\n",
              "      <td>0</td>\n",
              "    </tr>\n",
              "    <tr>\n",
              "      <th>2</th>\n",
              "      <td>2</td>\n",
              "      <td>46</td>\n",
              "      <td>1.0</td>\n",
              "      <td>F</td>\n",
              "      <td>YES</td>\n",
              "      <td>10.0</td>\n",
              "      <td>0.0</td>\n",
              "      <td>0</td>\n",
              "      <td>0</td>\n",
              "      <td>0</td>\n",
              "      <td>250.0</td>\n",
              "      <td>116.0</td>\n",
              "      <td>71.0</td>\n",
              "      <td>20.35</td>\n",
              "      <td>88.0</td>\n",
              "      <td>94.0</td>\n",
              "      <td>0</td>\n",
              "    </tr>\n",
              "    <tr>\n",
              "      <th>3</th>\n",
              "      <td>3</td>\n",
              "      <td>50</td>\n",
              "      <td>1.0</td>\n",
              "      <td>M</td>\n",
              "      <td>YES</td>\n",
              "      <td>20.0</td>\n",
              "      <td>0.0</td>\n",
              "      <td>0</td>\n",
              "      <td>1</td>\n",
              "      <td>0</td>\n",
              "      <td>233.0</td>\n",
              "      <td>158.0</td>\n",
              "      <td>88.0</td>\n",
              "      <td>28.26</td>\n",
              "      <td>68.0</td>\n",
              "      <td>94.0</td>\n",
              "      <td>1</td>\n",
              "    </tr>\n",
              "    <tr>\n",
              "      <th>4</th>\n",
              "      <td>4</td>\n",
              "      <td>64</td>\n",
              "      <td>1.0</td>\n",
              "      <td>F</td>\n",
              "      <td>YES</td>\n",
              "      <td>30.0</td>\n",
              "      <td>0.0</td>\n",
              "      <td>0</td>\n",
              "      <td>0</td>\n",
              "      <td>0</td>\n",
              "      <td>241.0</td>\n",
              "      <td>136.5</td>\n",
              "      <td>85.0</td>\n",
              "      <td>26.42</td>\n",
              "      <td>70.0</td>\n",
              "      <td>77.0</td>\n",
              "      <td>0</td>\n",
              "    </tr>\n",
              "  </tbody>\n",
              "</table>\n",
              "</div>"
            ],
            "text/plain": [
              "   id  age  education sex  ...    BMI  heartRate  glucose  TenYearCHD\n",
              "0   0   64        2.0   F  ...    NaN       90.0     80.0           1\n",
              "1   1   36        4.0   M  ...  29.77       72.0     75.0           0\n",
              "2   2   46        1.0   F  ...  20.35       88.0     94.0           0\n",
              "3   3   50        1.0   M  ...  28.26       68.0     94.0           1\n",
              "4   4   64        1.0   F  ...  26.42       70.0     77.0           0\n",
              "\n",
              "[5 rows x 17 columns]"
            ]
          },
          "metadata": {},
          "execution_count": 32
        }
      ]
    },
    {
      "cell_type": "code",
      "metadata": {
        "colab": {
          "base_uri": "https://localhost:8080/"
        },
        "id": "0xl_OrpP9KWE",
        "outputId": "4ae579da-4f22-499b-d7a3-25053760920c"
      },
      "source": [
        "df.info()"
      ],
      "execution_count": 33,
      "outputs": [
        {
          "output_type": "stream",
          "name": "stdout",
          "text": [
            "<class 'pandas.core.frame.DataFrame'>\n",
            "RangeIndex: 3390 entries, 0 to 3389\n",
            "Data columns (total 17 columns):\n",
            " #   Column           Non-Null Count  Dtype  \n",
            "---  ------           --------------  -----  \n",
            " 0   id               3390 non-null   int64  \n",
            " 1   age              3390 non-null   int64  \n",
            " 2   education        3303 non-null   float64\n",
            " 3   sex              3390 non-null   object \n",
            " 4   is_smoking       3390 non-null   object \n",
            " 5   cigsPerDay       3368 non-null   float64\n",
            " 6   BPMeds           3346 non-null   float64\n",
            " 7   prevalentStroke  3390 non-null   int64  \n",
            " 8   prevalentHyp     3390 non-null   int64  \n",
            " 9   diabetes         3390 non-null   int64  \n",
            " 10  totChol          3352 non-null   float64\n",
            " 11  sysBP            3390 non-null   float64\n",
            " 12  diaBP            3390 non-null   float64\n",
            " 13  BMI              3376 non-null   float64\n",
            " 14  heartRate        3389 non-null   float64\n",
            " 15  glucose          3086 non-null   float64\n",
            " 16  TenYearCHD       3390 non-null   int64  \n",
            "dtypes: float64(9), int64(6), object(2)\n",
            "memory usage: 450.4+ KB\n"
          ]
        }
      ]
    },
    {
      "cell_type": "code",
      "metadata": {
        "colab": {
          "base_uri": "https://localhost:8080/",
          "height": 315
        },
        "id": "XEZcWM8e9NAD",
        "outputId": "9b081b5c-de38-4d83-c9a2-66faa463cf54"
      },
      "source": [
        "df.describe()"
      ],
      "execution_count": 34,
      "outputs": [
        {
          "output_type": "execute_result",
          "data": {
            "text/html": [
              "<div>\n",
              "<style scoped>\n",
              "    .dataframe tbody tr th:only-of-type {\n",
              "        vertical-align: middle;\n",
              "    }\n",
              "\n",
              "    .dataframe tbody tr th {\n",
              "        vertical-align: top;\n",
              "    }\n",
              "\n",
              "    .dataframe thead th {\n",
              "        text-align: right;\n",
              "    }\n",
              "</style>\n",
              "<table border=\"1\" class=\"dataframe\">\n",
              "  <thead>\n",
              "    <tr style=\"text-align: right;\">\n",
              "      <th></th>\n",
              "      <th>id</th>\n",
              "      <th>age</th>\n",
              "      <th>education</th>\n",
              "      <th>cigsPerDay</th>\n",
              "      <th>BPMeds</th>\n",
              "      <th>prevalentStroke</th>\n",
              "      <th>prevalentHyp</th>\n",
              "      <th>diabetes</th>\n",
              "      <th>totChol</th>\n",
              "      <th>sysBP</th>\n",
              "      <th>diaBP</th>\n",
              "      <th>BMI</th>\n",
              "      <th>heartRate</th>\n",
              "      <th>glucose</th>\n",
              "      <th>TenYearCHD</th>\n",
              "    </tr>\n",
              "  </thead>\n",
              "  <tbody>\n",
              "    <tr>\n",
              "      <th>count</th>\n",
              "      <td>3390.000000</td>\n",
              "      <td>3390.000000</td>\n",
              "      <td>3303.000000</td>\n",
              "      <td>3368.000000</td>\n",
              "      <td>3346.000000</td>\n",
              "      <td>3390.000000</td>\n",
              "      <td>3390.000000</td>\n",
              "      <td>3390.000000</td>\n",
              "      <td>3352.000000</td>\n",
              "      <td>3390.00000</td>\n",
              "      <td>3390.000000</td>\n",
              "      <td>3376.000000</td>\n",
              "      <td>3389.000000</td>\n",
              "      <td>3086.000000</td>\n",
              "      <td>3390.000000</td>\n",
              "    </tr>\n",
              "    <tr>\n",
              "      <th>mean</th>\n",
              "      <td>1694.500000</td>\n",
              "      <td>49.542183</td>\n",
              "      <td>1.970936</td>\n",
              "      <td>9.069477</td>\n",
              "      <td>0.029886</td>\n",
              "      <td>0.006490</td>\n",
              "      <td>0.315339</td>\n",
              "      <td>0.025664</td>\n",
              "      <td>237.074284</td>\n",
              "      <td>132.60118</td>\n",
              "      <td>82.883038</td>\n",
              "      <td>25.794964</td>\n",
              "      <td>75.977279</td>\n",
              "      <td>82.086520</td>\n",
              "      <td>0.150737</td>\n",
              "    </tr>\n",
              "    <tr>\n",
              "      <th>std</th>\n",
              "      <td>978.753033</td>\n",
              "      <td>8.592878</td>\n",
              "      <td>1.019081</td>\n",
              "      <td>11.879078</td>\n",
              "      <td>0.170299</td>\n",
              "      <td>0.080309</td>\n",
              "      <td>0.464719</td>\n",
              "      <td>0.158153</td>\n",
              "      <td>45.247430</td>\n",
              "      <td>22.29203</td>\n",
              "      <td>12.023581</td>\n",
              "      <td>4.115449</td>\n",
              "      <td>11.971868</td>\n",
              "      <td>24.244753</td>\n",
              "      <td>0.357846</td>\n",
              "    </tr>\n",
              "    <tr>\n",
              "      <th>min</th>\n",
              "      <td>0.000000</td>\n",
              "      <td>32.000000</td>\n",
              "      <td>1.000000</td>\n",
              "      <td>0.000000</td>\n",
              "      <td>0.000000</td>\n",
              "      <td>0.000000</td>\n",
              "      <td>0.000000</td>\n",
              "      <td>0.000000</td>\n",
              "      <td>107.000000</td>\n",
              "      <td>83.50000</td>\n",
              "      <td>48.000000</td>\n",
              "      <td>15.960000</td>\n",
              "      <td>45.000000</td>\n",
              "      <td>40.000000</td>\n",
              "      <td>0.000000</td>\n",
              "    </tr>\n",
              "    <tr>\n",
              "      <th>25%</th>\n",
              "      <td>847.250000</td>\n",
              "      <td>42.000000</td>\n",
              "      <td>1.000000</td>\n",
              "      <td>0.000000</td>\n",
              "      <td>0.000000</td>\n",
              "      <td>0.000000</td>\n",
              "      <td>0.000000</td>\n",
              "      <td>0.000000</td>\n",
              "      <td>206.000000</td>\n",
              "      <td>117.00000</td>\n",
              "      <td>74.500000</td>\n",
              "      <td>23.020000</td>\n",
              "      <td>68.000000</td>\n",
              "      <td>71.000000</td>\n",
              "      <td>0.000000</td>\n",
              "    </tr>\n",
              "    <tr>\n",
              "      <th>50%</th>\n",
              "      <td>1694.500000</td>\n",
              "      <td>49.000000</td>\n",
              "      <td>2.000000</td>\n",
              "      <td>0.000000</td>\n",
              "      <td>0.000000</td>\n",
              "      <td>0.000000</td>\n",
              "      <td>0.000000</td>\n",
              "      <td>0.000000</td>\n",
              "      <td>234.000000</td>\n",
              "      <td>128.50000</td>\n",
              "      <td>82.000000</td>\n",
              "      <td>25.380000</td>\n",
              "      <td>75.000000</td>\n",
              "      <td>78.000000</td>\n",
              "      <td>0.000000</td>\n",
              "    </tr>\n",
              "    <tr>\n",
              "      <th>75%</th>\n",
              "      <td>2541.750000</td>\n",
              "      <td>56.000000</td>\n",
              "      <td>3.000000</td>\n",
              "      <td>20.000000</td>\n",
              "      <td>0.000000</td>\n",
              "      <td>0.000000</td>\n",
              "      <td>1.000000</td>\n",
              "      <td>0.000000</td>\n",
              "      <td>264.000000</td>\n",
              "      <td>144.00000</td>\n",
              "      <td>90.000000</td>\n",
              "      <td>28.040000</td>\n",
              "      <td>83.000000</td>\n",
              "      <td>87.000000</td>\n",
              "      <td>0.000000</td>\n",
              "    </tr>\n",
              "    <tr>\n",
              "      <th>max</th>\n",
              "      <td>3389.000000</td>\n",
              "      <td>70.000000</td>\n",
              "      <td>4.000000</td>\n",
              "      <td>70.000000</td>\n",
              "      <td>1.000000</td>\n",
              "      <td>1.000000</td>\n",
              "      <td>1.000000</td>\n",
              "      <td>1.000000</td>\n",
              "      <td>696.000000</td>\n",
              "      <td>295.00000</td>\n",
              "      <td>142.500000</td>\n",
              "      <td>56.800000</td>\n",
              "      <td>143.000000</td>\n",
              "      <td>394.000000</td>\n",
              "      <td>1.000000</td>\n",
              "    </tr>\n",
              "  </tbody>\n",
              "</table>\n",
              "</div>"
            ],
            "text/plain": [
              "                id          age  ...      glucose   TenYearCHD\n",
              "count  3390.000000  3390.000000  ...  3086.000000  3390.000000\n",
              "mean   1694.500000    49.542183  ...    82.086520     0.150737\n",
              "std     978.753033     8.592878  ...    24.244753     0.357846\n",
              "min       0.000000    32.000000  ...    40.000000     0.000000\n",
              "25%     847.250000    42.000000  ...    71.000000     0.000000\n",
              "50%    1694.500000    49.000000  ...    78.000000     0.000000\n",
              "75%    2541.750000    56.000000  ...    87.000000     0.000000\n",
              "max    3389.000000    70.000000  ...   394.000000     1.000000\n",
              "\n",
              "[8 rows x 15 columns]"
            ]
          },
          "metadata": {},
          "execution_count": 34
        }
      ]
    },
    {
      "cell_type": "code",
      "metadata": {
        "colab": {
          "base_uri": "https://localhost:8080/",
          "height": 511
        },
        "id": "7czHvjAu9RRr",
        "outputId": "09bd21bf-c106-44a4-ffad-61ab00f912e9"
      },
      "source": [
        "# Finding corelation among all the variables\n",
        "df.corr()"
      ],
      "execution_count": 35,
      "outputs": [
        {
          "output_type": "execute_result",
          "data": {
            "text/html": [
              "<div>\n",
              "<style scoped>\n",
              "    .dataframe tbody tr th:only-of-type {\n",
              "        vertical-align: middle;\n",
              "    }\n",
              "\n",
              "    .dataframe tbody tr th {\n",
              "        vertical-align: top;\n",
              "    }\n",
              "\n",
              "    .dataframe thead th {\n",
              "        text-align: right;\n",
              "    }\n",
              "</style>\n",
              "<table border=\"1\" class=\"dataframe\">\n",
              "  <thead>\n",
              "    <tr style=\"text-align: right;\">\n",
              "      <th></th>\n",
              "      <th>id</th>\n",
              "      <th>age</th>\n",
              "      <th>education</th>\n",
              "      <th>cigsPerDay</th>\n",
              "      <th>BPMeds</th>\n",
              "      <th>prevalentStroke</th>\n",
              "      <th>prevalentHyp</th>\n",
              "      <th>diabetes</th>\n",
              "      <th>totChol</th>\n",
              "      <th>sysBP</th>\n",
              "      <th>diaBP</th>\n",
              "      <th>BMI</th>\n",
              "      <th>heartRate</th>\n",
              "      <th>glucose</th>\n",
              "      <th>TenYearCHD</th>\n",
              "    </tr>\n",
              "  </thead>\n",
              "  <tbody>\n",
              "    <tr>\n",
              "      <th>id</th>\n",
              "      <td>1.000000</td>\n",
              "      <td>0.016759</td>\n",
              "      <td>-0.030573</td>\n",
              "      <td>-0.017249</td>\n",
              "      <td>0.007080</td>\n",
              "      <td>-0.038873</td>\n",
              "      <td>0.013236</td>\n",
              "      <td>0.003690</td>\n",
              "      <td>-0.019889</td>\n",
              "      <td>0.019676</td>\n",
              "      <td>0.000832</td>\n",
              "      <td>0.039849</td>\n",
              "      <td>0.024684</td>\n",
              "      <td>0.015517</td>\n",
              "      <td>0.009866</td>\n",
              "    </tr>\n",
              "    <tr>\n",
              "      <th>age</th>\n",
              "      <td>0.016759</td>\n",
              "      <td>1.000000</td>\n",
              "      <td>-0.172559</td>\n",
              "      <td>-0.192335</td>\n",
              "      <td>0.124376</td>\n",
              "      <td>0.059038</td>\n",
              "      <td>0.308826</td>\n",
              "      <td>0.107875</td>\n",
              "      <td>0.274028</td>\n",
              "      <td>0.404845</td>\n",
              "      <td>0.221896</td>\n",
              "      <td>0.138176</td>\n",
              "      <td>-0.002596</td>\n",
              "      <td>0.116135</td>\n",
              "      <td>0.224927</td>\n",
              "    </tr>\n",
              "    <tr>\n",
              "      <th>education</th>\n",
              "      <td>-0.030573</td>\n",
              "      <td>-0.172559</td>\n",
              "      <td>1.000000</td>\n",
              "      <td>0.011126</td>\n",
              "      <td>-0.019920</td>\n",
              "      <td>-0.034194</td>\n",
              "      <td>-0.084817</td>\n",
              "      <td>-0.052013</td>\n",
              "      <td>-0.020781</td>\n",
              "      <td>-0.137195</td>\n",
              "      <td>-0.060801</td>\n",
              "      <td>-0.133313</td>\n",
              "      <td>-0.046980</td>\n",
              "      <td>-0.038732</td>\n",
              "      <td>-0.052751</td>\n",
              "    </tr>\n",
              "    <tr>\n",
              "      <th>cigsPerDay</th>\n",
              "      <td>-0.017249</td>\n",
              "      <td>-0.192335</td>\n",
              "      <td>0.011126</td>\n",
              "      <td>1.000000</td>\n",
              "      <td>-0.037080</td>\n",
              "      <td>-0.042057</td>\n",
              "      <td>-0.079312</td>\n",
              "      <td>-0.049016</td>\n",
              "      <td>-0.024703</td>\n",
              "      <td>-0.100834</td>\n",
              "      <td>-0.068785</td>\n",
              "      <td>-0.100996</td>\n",
              "      <td>0.066759</td>\n",
              "      <td>-0.068797</td>\n",
              "      <td>0.066778</td>\n",
              "    </tr>\n",
              "    <tr>\n",
              "      <th>BPMeds</th>\n",
              "      <td>0.007080</td>\n",
              "      <td>0.124376</td>\n",
              "      <td>-0.019920</td>\n",
              "      <td>-0.037080</td>\n",
              "      <td>1.000000</td>\n",
              "      <td>0.119402</td>\n",
              "      <td>0.259548</td>\n",
              "      <td>0.071316</td>\n",
              "      <td>0.083299</td>\n",
              "      <td>0.263729</td>\n",
              "      <td>0.201217</td>\n",
              "      <td>0.087932</td>\n",
              "      <td>0.018107</td>\n",
              "      <td>0.064490</td>\n",
              "      <td>0.088020</td>\n",
              "    </tr>\n",
              "    <tr>\n",
              "      <th>prevalentStroke</th>\n",
              "      <td>-0.038873</td>\n",
              "      <td>0.059038</td>\n",
              "      <td>-0.034194</td>\n",
              "      <td>-0.042057</td>\n",
              "      <td>0.119402</td>\n",
              "      <td>1.000000</td>\n",
              "      <td>0.071652</td>\n",
              "      <td>0.010115</td>\n",
              "      <td>-0.010832</td>\n",
              "      <td>0.057568</td>\n",
              "      <td>0.047235</td>\n",
              "      <td>0.018602</td>\n",
              "      <td>-0.019184</td>\n",
              "      <td>0.023607</td>\n",
              "      <td>0.068627</td>\n",
              "    </tr>\n",
              "    <tr>\n",
              "      <th>prevalentHyp</th>\n",
              "      <td>0.013236</td>\n",
              "      <td>0.308826</td>\n",
              "      <td>-0.084817</td>\n",
              "      <td>-0.079312</td>\n",
              "      <td>0.259548</td>\n",
              "      <td>0.071652</td>\n",
              "      <td>1.000000</td>\n",
              "      <td>0.082565</td>\n",
              "      <td>0.159680</td>\n",
              "      <td>0.699285</td>\n",
              "      <td>0.612897</td>\n",
              "      <td>0.300464</td>\n",
              "      <td>0.150815</td>\n",
              "      <td>0.086658</td>\n",
              "      <td>0.166544</td>\n",
              "    </tr>\n",
              "    <tr>\n",
              "      <th>diabetes</th>\n",
              "      <td>0.003690</td>\n",
              "      <td>0.107875</td>\n",
              "      <td>-0.052013</td>\n",
              "      <td>-0.049016</td>\n",
              "      <td>0.071316</td>\n",
              "      <td>0.010115</td>\n",
              "      <td>0.082565</td>\n",
              "      <td>1.000000</td>\n",
              "      <td>0.059080</td>\n",
              "      <td>0.124011</td>\n",
              "      <td>0.061165</td>\n",
              "      <td>0.089112</td>\n",
              "      <td>0.039742</td>\n",
              "      <td>0.620211</td>\n",
              "      <td>0.103681</td>\n",
              "    </tr>\n",
              "    <tr>\n",
              "      <th>totChol</th>\n",
              "      <td>-0.019889</td>\n",
              "      <td>0.274028</td>\n",
              "      <td>-0.020781</td>\n",
              "      <td>-0.024703</td>\n",
              "      <td>0.083299</td>\n",
              "      <td>-0.010832</td>\n",
              "      <td>0.159680</td>\n",
              "      <td>0.059080</td>\n",
              "      <td>1.000000</td>\n",
              "      <td>0.199159</td>\n",
              "      <td>0.154974</td>\n",
              "      <td>0.114305</td>\n",
              "      <td>0.087458</td>\n",
              "      <td>0.062723</td>\n",
              "      <td>0.094306</td>\n",
              "    </tr>\n",
              "    <tr>\n",
              "      <th>sysBP</th>\n",
              "      <td>0.019676</td>\n",
              "      <td>0.404845</td>\n",
              "      <td>-0.137195</td>\n",
              "      <td>-0.100834</td>\n",
              "      <td>0.263729</td>\n",
              "      <td>0.057568</td>\n",
              "      <td>0.699285</td>\n",
              "      <td>0.124011</td>\n",
              "      <td>0.199159</td>\n",
              "      <td>1.000000</td>\n",
              "      <td>0.781908</td>\n",
              "      <td>0.333864</td>\n",
              "      <td>0.178262</td>\n",
              "      <td>0.143090</td>\n",
              "      <td>0.212703</td>\n",
              "    </tr>\n",
              "    <tr>\n",
              "      <th>diaBP</th>\n",
              "      <td>0.000832</td>\n",
              "      <td>0.221896</td>\n",
              "      <td>-0.060801</td>\n",
              "      <td>-0.068785</td>\n",
              "      <td>0.201217</td>\n",
              "      <td>0.047235</td>\n",
              "      <td>0.612897</td>\n",
              "      <td>0.061165</td>\n",
              "      <td>0.154974</td>\n",
              "      <td>0.781908</td>\n",
              "      <td>1.000000</td>\n",
              "      <td>0.380498</td>\n",
              "      <td>0.174904</td>\n",
              "      <td>0.071499</td>\n",
              "      <td>0.135979</td>\n",
              "    </tr>\n",
              "    <tr>\n",
              "      <th>BMI</th>\n",
              "      <td>0.039849</td>\n",
              "      <td>0.138176</td>\n",
              "      <td>-0.133313</td>\n",
              "      <td>-0.100996</td>\n",
              "      <td>0.087932</td>\n",
              "      <td>0.018602</td>\n",
              "      <td>0.300464</td>\n",
              "      <td>0.089112</td>\n",
              "      <td>0.114305</td>\n",
              "      <td>0.333864</td>\n",
              "      <td>0.380498</td>\n",
              "      <td>1.000000</td>\n",
              "      <td>0.069655</td>\n",
              "      <td>0.093454</td>\n",
              "      <td>0.066947</td>\n",
              "    </tr>\n",
              "    <tr>\n",
              "      <th>heartRate</th>\n",
              "      <td>0.024684</td>\n",
              "      <td>-0.002596</td>\n",
              "      <td>-0.046980</td>\n",
              "      <td>0.066759</td>\n",
              "      <td>0.018107</td>\n",
              "      <td>-0.019184</td>\n",
              "      <td>0.150815</td>\n",
              "      <td>0.039742</td>\n",
              "      <td>0.087458</td>\n",
              "      <td>0.178262</td>\n",
              "      <td>0.174904</td>\n",
              "      <td>0.069655</td>\n",
              "      <td>1.000000</td>\n",
              "      <td>0.088334</td>\n",
              "      <td>0.020241</td>\n",
              "    </tr>\n",
              "    <tr>\n",
              "      <th>glucose</th>\n",
              "      <td>0.015517</td>\n",
              "      <td>0.116135</td>\n",
              "      <td>-0.038732</td>\n",
              "      <td>-0.068797</td>\n",
              "      <td>0.064490</td>\n",
              "      <td>0.023607</td>\n",
              "      <td>0.086658</td>\n",
              "      <td>0.620211</td>\n",
              "      <td>0.062723</td>\n",
              "      <td>0.143090</td>\n",
              "      <td>0.071499</td>\n",
              "      <td>0.093454</td>\n",
              "      <td>0.088334</td>\n",
              "      <td>1.000000</td>\n",
              "      <td>0.138200</td>\n",
              "    </tr>\n",
              "    <tr>\n",
              "      <th>TenYearCHD</th>\n",
              "      <td>0.009866</td>\n",
              "      <td>0.224927</td>\n",
              "      <td>-0.052751</td>\n",
              "      <td>0.066778</td>\n",
              "      <td>0.088020</td>\n",
              "      <td>0.068627</td>\n",
              "      <td>0.166544</td>\n",
              "      <td>0.103681</td>\n",
              "      <td>0.094306</td>\n",
              "      <td>0.212703</td>\n",
              "      <td>0.135979</td>\n",
              "      <td>0.066947</td>\n",
              "      <td>0.020241</td>\n",
              "      <td>0.138200</td>\n",
              "      <td>1.000000</td>\n",
              "    </tr>\n",
              "  </tbody>\n",
              "</table>\n",
              "</div>"
            ],
            "text/plain": [
              "                       id       age  education  ...  heartRate   glucose  TenYearCHD\n",
              "id               1.000000  0.016759  -0.030573  ...   0.024684  0.015517    0.009866\n",
              "age              0.016759  1.000000  -0.172559  ...  -0.002596  0.116135    0.224927\n",
              "education       -0.030573 -0.172559   1.000000  ...  -0.046980 -0.038732   -0.052751\n",
              "cigsPerDay      -0.017249 -0.192335   0.011126  ...   0.066759 -0.068797    0.066778\n",
              "BPMeds           0.007080  0.124376  -0.019920  ...   0.018107  0.064490    0.088020\n",
              "prevalentStroke -0.038873  0.059038  -0.034194  ...  -0.019184  0.023607    0.068627\n",
              "prevalentHyp     0.013236  0.308826  -0.084817  ...   0.150815  0.086658    0.166544\n",
              "diabetes         0.003690  0.107875  -0.052013  ...   0.039742  0.620211    0.103681\n",
              "totChol         -0.019889  0.274028  -0.020781  ...   0.087458  0.062723    0.094306\n",
              "sysBP            0.019676  0.404845  -0.137195  ...   0.178262  0.143090    0.212703\n",
              "diaBP            0.000832  0.221896  -0.060801  ...   0.174904  0.071499    0.135979\n",
              "BMI              0.039849  0.138176  -0.133313  ...   0.069655  0.093454    0.066947\n",
              "heartRate        0.024684 -0.002596  -0.046980  ...   1.000000  0.088334    0.020241\n",
              "glucose          0.015517  0.116135  -0.038732  ...   0.088334  1.000000    0.138200\n",
              "TenYearCHD       0.009866  0.224927  -0.052751  ...   0.020241  0.138200    1.000000\n",
              "\n",
              "[15 rows x 15 columns]"
            ]
          },
          "metadata": {},
          "execution_count": 35
        }
      ]
    },
    {
      "cell_type": "code",
      "metadata": {
        "colab": {
          "base_uri": "https://localhost:8080/"
        },
        "id": "LM2CerPi9TI0",
        "outputId": "6916c0bc-02c2-4f78-d7f7-4c297e9667f2"
      },
      "source": [
        "# Checking for null values in the dataset\n",
        "df.isnull().sum()"
      ],
      "execution_count": 36,
      "outputs": [
        {
          "output_type": "execute_result",
          "data": {
            "text/plain": [
              "id                   0\n",
              "age                  0\n",
              "education           87\n",
              "sex                  0\n",
              "is_smoking           0\n",
              "cigsPerDay          22\n",
              "BPMeds              44\n",
              "prevalentStroke      0\n",
              "prevalentHyp         0\n",
              "diabetes             0\n",
              "totChol             38\n",
              "sysBP                0\n",
              "diaBP                0\n",
              "BMI                 14\n",
              "heartRate            1\n",
              "glucose            304\n",
              "TenYearCHD           0\n",
              "dtype: int64"
            ]
          },
          "metadata": {},
          "execution_count": 36
        }
      ]
    },
    {
      "cell_type": "code",
      "metadata": {
        "colab": {
          "base_uri": "https://localhost:8080/"
        },
        "id": "vfNw-Gtl-ea3",
        "outputId": "7f2b980b-a224-46d3-e28d-f52ed1e16800"
      },
      "source": [
        "df['glucose'].unique()"
      ],
      "execution_count": 37,
      "outputs": [
        {
          "output_type": "execute_result",
          "data": {
            "text/plain": [
              "array([ 80.,  75.,  94.,  77.,  65.,  79.,  63.,  nan,  87.,  67.,  85.,\n",
              "       132.,  76., 100.,  70.,  60.,  73.,  81.,  68.,  66.,  78.,  96.,\n",
              "        72.,  61.,  69., 103.,  92., 105.,  93.,  89.,  64.,  83., 170.,\n",
              "        57.,  58.,  86.,  99., 107.,  55.,  90., 177.,  71., 118.,  59.,\n",
              "        74.,  84.,  82.,  95., 120., 173.,  91., 102., 163.,  88.,  62.,\n",
              "       205.,  97., 115.,  98., 268., 104., 137., 106., 348., 110., 122.,\n",
              "       108., 255., 140., 124., 244., 294., 112., 113., 254., 116.,  52.,\n",
              "        50., 114., 127.,  56., 135.,  45., 206.,  53., 101., 117., 126.,\n",
              "       131., 394., 123., 270., 320., 129., 142.,  54., 235.,  40., 150.,\n",
              "       136., 191.,  44., 119., 109., 121.,  43., 256., 145.,  47., 297.,\n",
              "       166., 172.,  48., 111., 215., 216., 368., 155., 148., 147., 223.,\n",
              "       225., 332., 210., 186., 386., 248., 193., 125., 167., 183., 260.,\n",
              "       274.])"
            ]
          },
          "metadata": {},
          "execution_count": 37
        }
      ]
    },
    {
      "cell_type": "code",
      "metadata": {
        "id": "K4AJQQl-_wJA"
      },
      "source": [
        "# Store the variables which have null values in a list\n",
        "null_col=['cigsPerDay','BPMeds','totChol','BMI','glucose']\n"
      ],
      "execution_count": 38,
      "outputs": []
    },
    {
      "cell_type": "markdown",
      "metadata": {
        "id": "9Hwu1cbJCH4J"
      },
      "source": [
        "#**Handling Null Values**"
      ]
    },
    {
      "cell_type": "code",
      "metadata": {
        "id": "ZOdM-fKjARYN"
      },
      "source": [
        "# Replacing null values with mean\n",
        "for x in null_col:\n",
        "  df[x].fillna(df[x].mean(),inplace=True)"
      ],
      "execution_count": 39,
      "outputs": []
    },
    {
      "cell_type": "code",
      "metadata": {
        "id": "Slj3lgsSCKq-"
      },
      "source": [
        "# Dropping the single row which has null value \n",
        "df.dropna(subset=['heartRate'],inplace=True)"
      ],
      "execution_count": 40,
      "outputs": []
    },
    {
      "cell_type": "code",
      "metadata": {
        "colab": {
          "base_uri": "https://localhost:8080/"
        },
        "id": "pkAgXajTAufi",
        "outputId": "cdde8ec4-ad44-4148-8b03-d671e2d5e1ca"
      },
      "source": [
        "df.isnull().sum()"
      ],
      "execution_count": 41,
      "outputs": [
        {
          "output_type": "execute_result",
          "data": {
            "text/plain": [
              "id                  0\n",
              "age                 0\n",
              "education          87\n",
              "sex                 0\n",
              "is_smoking          0\n",
              "cigsPerDay          0\n",
              "BPMeds              0\n",
              "prevalentStroke     0\n",
              "prevalentHyp        0\n",
              "diabetes            0\n",
              "totChol             0\n",
              "sysBP               0\n",
              "diaBP               0\n",
              "BMI                 0\n",
              "heartRate           0\n",
              "glucose             0\n",
              "TenYearCHD          0\n",
              "dtype: int64"
            ]
          },
          "metadata": {},
          "execution_count": 41
        }
      ]
    },
    {
      "cell_type": "code",
      "metadata": {
        "id": "uMfhfR5t9hfJ"
      },
      "source": [
        "# Dropping the variables which are insignificant\n",
        "df.drop(labels=['id','education'],inplace=True,axis=1)\n"
      ],
      "execution_count": 42,
      "outputs": []
    },
    {
      "cell_type": "code",
      "metadata": {
        "colab": {
          "base_uri": "https://localhost:8080/",
          "height": 203
        },
        "id": "CWmGFocXEGgi",
        "outputId": "e3a551ff-037b-4b1e-9ed6-cc91e94d6450"
      },
      "source": [
        "df.head()"
      ],
      "execution_count": 43,
      "outputs": [
        {
          "output_type": "execute_result",
          "data": {
            "text/html": [
              "<div>\n",
              "<style scoped>\n",
              "    .dataframe tbody tr th:only-of-type {\n",
              "        vertical-align: middle;\n",
              "    }\n",
              "\n",
              "    .dataframe tbody tr th {\n",
              "        vertical-align: top;\n",
              "    }\n",
              "\n",
              "    .dataframe thead th {\n",
              "        text-align: right;\n",
              "    }\n",
              "</style>\n",
              "<table border=\"1\" class=\"dataframe\">\n",
              "  <thead>\n",
              "    <tr style=\"text-align: right;\">\n",
              "      <th></th>\n",
              "      <th>age</th>\n",
              "      <th>sex</th>\n",
              "      <th>is_smoking</th>\n",
              "      <th>cigsPerDay</th>\n",
              "      <th>BPMeds</th>\n",
              "      <th>prevalentStroke</th>\n",
              "      <th>prevalentHyp</th>\n",
              "      <th>diabetes</th>\n",
              "      <th>totChol</th>\n",
              "      <th>sysBP</th>\n",
              "      <th>diaBP</th>\n",
              "      <th>BMI</th>\n",
              "      <th>heartRate</th>\n",
              "      <th>glucose</th>\n",
              "      <th>TenYearCHD</th>\n",
              "    </tr>\n",
              "  </thead>\n",
              "  <tbody>\n",
              "    <tr>\n",
              "      <th>0</th>\n",
              "      <td>64</td>\n",
              "      <td>F</td>\n",
              "      <td>YES</td>\n",
              "      <td>3.0</td>\n",
              "      <td>0.0</td>\n",
              "      <td>0</td>\n",
              "      <td>0</td>\n",
              "      <td>0</td>\n",
              "      <td>221.0</td>\n",
              "      <td>148.0</td>\n",
              "      <td>85.0</td>\n",
              "      <td>25.794964</td>\n",
              "      <td>90.0</td>\n",
              "      <td>80.0</td>\n",
              "      <td>1</td>\n",
              "    </tr>\n",
              "    <tr>\n",
              "      <th>1</th>\n",
              "      <td>36</td>\n",
              "      <td>M</td>\n",
              "      <td>NO</td>\n",
              "      <td>0.0</td>\n",
              "      <td>0.0</td>\n",
              "      <td>0</td>\n",
              "      <td>1</td>\n",
              "      <td>0</td>\n",
              "      <td>212.0</td>\n",
              "      <td>168.0</td>\n",
              "      <td>98.0</td>\n",
              "      <td>29.770000</td>\n",
              "      <td>72.0</td>\n",
              "      <td>75.0</td>\n",
              "      <td>0</td>\n",
              "    </tr>\n",
              "    <tr>\n",
              "      <th>2</th>\n",
              "      <td>46</td>\n",
              "      <td>F</td>\n",
              "      <td>YES</td>\n",
              "      <td>10.0</td>\n",
              "      <td>0.0</td>\n",
              "      <td>0</td>\n",
              "      <td>0</td>\n",
              "      <td>0</td>\n",
              "      <td>250.0</td>\n",
              "      <td>116.0</td>\n",
              "      <td>71.0</td>\n",
              "      <td>20.350000</td>\n",
              "      <td>88.0</td>\n",
              "      <td>94.0</td>\n",
              "      <td>0</td>\n",
              "    </tr>\n",
              "    <tr>\n",
              "      <th>3</th>\n",
              "      <td>50</td>\n",
              "      <td>M</td>\n",
              "      <td>YES</td>\n",
              "      <td>20.0</td>\n",
              "      <td>0.0</td>\n",
              "      <td>0</td>\n",
              "      <td>1</td>\n",
              "      <td>0</td>\n",
              "      <td>233.0</td>\n",
              "      <td>158.0</td>\n",
              "      <td>88.0</td>\n",
              "      <td>28.260000</td>\n",
              "      <td>68.0</td>\n",
              "      <td>94.0</td>\n",
              "      <td>1</td>\n",
              "    </tr>\n",
              "    <tr>\n",
              "      <th>4</th>\n",
              "      <td>64</td>\n",
              "      <td>F</td>\n",
              "      <td>YES</td>\n",
              "      <td>30.0</td>\n",
              "      <td>0.0</td>\n",
              "      <td>0</td>\n",
              "      <td>0</td>\n",
              "      <td>0</td>\n",
              "      <td>241.0</td>\n",
              "      <td>136.5</td>\n",
              "      <td>85.0</td>\n",
              "      <td>26.420000</td>\n",
              "      <td>70.0</td>\n",
              "      <td>77.0</td>\n",
              "      <td>0</td>\n",
              "    </tr>\n",
              "  </tbody>\n",
              "</table>\n",
              "</div>"
            ],
            "text/plain": [
              "   age sex is_smoking  cigsPerDay  ...        BMI  heartRate  glucose  TenYearCHD\n",
              "0   64   F        YES         3.0  ...  25.794964       90.0     80.0           1\n",
              "1   36   M         NO         0.0  ...  29.770000       72.0     75.0           0\n",
              "2   46   F        YES        10.0  ...  20.350000       88.0     94.0           0\n",
              "3   50   M        YES        20.0  ...  28.260000       68.0     94.0           1\n",
              "4   64   F        YES        30.0  ...  26.420000       70.0     77.0           0\n",
              "\n",
              "[5 rows x 15 columns]"
            ]
          },
          "metadata": {},
          "execution_count": 43
        }
      ]
    },
    {
      "cell_type": "code",
      "metadata": {
        "id": "cLadtNg9EK0X"
      },
      "source": [
        "# Creating the list of variables for which distribution plot needs to be plotted\n",
        "dist_col=['totChol','sysBP','diaBP','BMI','heartRate','glucose']"
      ],
      "execution_count": 44,
      "outputs": []
    },
    {
      "cell_type": "code",
      "metadata": {
        "colab": {
          "base_uri": "https://localhost:8080/",
          "height": 584
        },
        "id": "_duBNhXJGxiE",
        "outputId": "607bc1ab-b6a3-4f99-ca71-0fe6a19d6a01"
      },
      "source": [
        "# Let's look at the distribution of the variables using distplot\n",
        "plt.figure(figsize=(17,13))\n",
        "for i in range(len(dist_col)):\n",
        "  plt.subplot(4,2,i+1)\n",
        "  sns.distplot(df[dist_col[i]],hist=True,rug=True)"
      ],
      "execution_count": 45,
      "outputs": [
        {
          "output_type": "display_data",
          "data": {
            "image/png": "[encoded data removed]",
            "text/plain": [
              "<Figure size 1224x936 with 6 Axes>"
            ]
          },
          "metadata": {
            "needs_background": "light"
          }
        }
      ]
    },
    {
      "cell_type": "code",
      "metadata": {
        "colab": {
          "base_uri": "https://localhost:8080/",
          "height": 584
        },
        "id": "iupPEDpgHc8q",
        "outputId": "0a8841c9-566b-4a4e-8b91-b267431915df"
      },
      "source": [
        "# Normalising the data using log transformation\n",
        "plt.figure(figsize=(17,13))\n",
        "for i in range(len(dist_col)):\n",
        "  plt.subplot(4,2,i+1)\n",
        "  sns.distplot(np.log(df[dist_col[i]]),hist=True,rug=True)"
      ],
      "execution_count": 46,
      "outputs": [
        {
          "output_type": "display_data",
          "data": {
            "image/png": "[encoded data removed]",
            "text/plain": [
              "<Figure size 1224x936 with 6 Axes>"
            ]
          },
          "metadata": {
            "needs_background": "light"
          }
        }
      ]
    },
    {
      "cell_type": "markdown",
      "metadata": {
        "id": "-URom1WfTAQj"
      },
      "source": [
        "# ***Checking for outliers using box plot***"
      ]
    },
    {
      "cell_type": "code",
      "metadata": {
        "colab": {
          "base_uri": "https://localhost:8080/",
          "height": 282
        },
        "id": "fs6p1N8fMZ_D",
        "outputId": "0e959bdb-264b-4a63-ddd5-a8767d0094da"
      },
      "source": [
        "\n",
        "df.age.plot.box()"
      ],
      "execution_count": 47,
      "outputs": [
        {
          "output_type": "execute_result",
          "data": {
            "text/plain": [
              "<matplotlib.axes._subplots.AxesSubplot at 0x7f33a38ed7d0>"
            ]
          },
          "metadata": {},
          "execution_count": 47
        },
        {
          "output_type": "display_data",
          "data": {
            "image/png": "[encoded data removed]",
            "text/plain": [
              "<Figure size 432x288 with 1 Axes>"
            ]
          },
          "metadata": {
            "needs_background": "light"
          }
        }
      ]
    },
    {
      "cell_type": "code",
      "metadata": {
        "colab": {
          "base_uri": "https://localhost:8080/",
          "height": 282
        },
        "id": "Gx7UBOhpMeLF",
        "outputId": "5ffb26e4-de4a-4a14-c15f-3146e6bec412"
      },
      "source": [
        "df.cigsPerDay.plot.box()"
      ],
      "execution_count": 48,
      "outputs": [
        {
          "output_type": "execute_result",
          "data": {
            "text/plain": [
              "<matplotlib.axes._subplots.AxesSubplot at 0x7f3397fe2b90>"
            ]
          },
          "metadata": {},
          "execution_count": 48
        },
        {
          "output_type": "display_data",
          "data": {
            "image/png": "[encoded data removed]",
            "text/plain": [
              "<Figure size 432x288 with 1 Axes>"
            ]
          },
          "metadata": {
            "needs_background": "light"
          }
        }
      ]
    },
    {
      "cell_type": "code",
      "metadata": {
        "colab": {
          "base_uri": "https://localhost:8080/",
          "height": 282
        },
        "id": "-zWZ3UXiMpH2",
        "outputId": "76494bcf-0f99-4625-b68f-71bf3016e714"
      },
      "source": [
        "df.totChol.plot.box()"
      ],
      "execution_count": 49,
      "outputs": [
        {
          "output_type": "execute_result",
          "data": {
            "text/plain": [
              "<matplotlib.axes._subplots.AxesSubplot at 0x7f3397bdc2d0>"
            ]
          },
          "metadata": {},
          "execution_count": 49
        },
        {
          "output_type": "display_data",
          "data": {
            "image/png": "[encoded data removed]",
            "text/plain": [
              "<Figure size 432x288 with 1 Axes>"
            ]
          },
          "metadata": {
            "needs_background": "light"
          }
        }
      ]
    },
    {
      "cell_type": "code",
      "metadata": {
        "colab": {
          "base_uri": "https://localhost:8080/",
          "height": 282
        },
        "id": "X7JfoqWJMylc",
        "outputId": "744aedc7-ed89-4f50-a8eb-589fb20618b6"
      },
      "source": [
        "df.sysBP.plot.box()"
      ],
      "execution_count": 50,
      "outputs": [
        {
          "output_type": "execute_result",
          "data": {
            "text/plain": [
              "<matplotlib.axes._subplots.AxesSubplot at 0x7f3397f97b10>"
            ]
          },
          "metadata": {},
          "execution_count": 50
        },
        {
          "output_type": "display_data",
          "data": {
            "image/png": "[encoded data removed]",
            "text/plain": [
              "<Figure size 432x288 with 1 Axes>"
            ]
          },
          "metadata": {
            "needs_background": "light"
          }
        }
      ]
    },
    {
      "cell_type": "code",
      "metadata": {
        "colab": {
          "base_uri": "https://localhost:8080/",
          "height": 282
        },
        "id": "t15Y4hagNAyC",
        "outputId": "bdbb5470-276e-4b46-acc3-8c2e2ca1ef47"
      },
      "source": [
        "df.diaBP.plot.box()"
      ],
      "execution_count": 51,
      "outputs": [
        {
          "output_type": "execute_result",
          "data": {
            "text/plain": [
              "<matplotlib.axes._subplots.AxesSubplot at 0x7f33981e4c90>"
            ]
          },
          "metadata": {},
          "execution_count": 51
        },
        {
          "output_type": "display_data",
          "data": {
            "image/png": "[encoded data removed]",
            "text/plain": [
              "<Figure size 432x288 with 1 Axes>"
            ]
          },
          "metadata": {
            "needs_background": "light"
          }
        }
      ]
    },
    {
      "cell_type": "code",
      "metadata": {
        "colab": {
          "base_uri": "https://localhost:8080/",
          "height": 282
        },
        "id": "803ZtmrBNNVD",
        "outputId": "85b36d06-bbb9-4719-fb3c-ec1887cf836e"
      },
      "source": [
        "df.BMI.plot.box()"
      ],
      "execution_count": 52,
      "outputs": [
        {
          "output_type": "execute_result",
          "data": {
            "text/plain": [
              "<matplotlib.axes._subplots.AxesSubplot at 0x7f3397c00110>"
            ]
          },
          "metadata": {},
          "execution_count": 52
        },
        {
          "output_type": "display_data",
          "data": {
            "image/png": "[encoded data removed]",
            "text/plain": [
              "<Figure size 432x288 with 1 Axes>"
            ]
          },
          "metadata": {
            "needs_background": "light"
          }
        }
      ]
    },
    {
      "cell_type": "code",
      "metadata": {
        "colab": {
          "base_uri": "https://localhost:8080/",
          "height": 282
        },
        "id": "fs6AEqdINdjN",
        "outputId": "0715a843-d0aa-4921-c081-3893ee33abe6"
      },
      "source": [
        "df.heartRate.plot.box()"
      ],
      "execution_count": 53,
      "outputs": [
        {
          "output_type": "execute_result",
          "data": {
            "text/plain": [
              "<matplotlib.axes._subplots.AxesSubplot at 0x7f3397c841d0>"
            ]
          },
          "metadata": {},
          "execution_count": 53
        },
        {
          "output_type": "display_data",
          "data": {
            "image/png": "[encoded data removed]",
            "text/plain": [
              "<Figure size 432x288 with 1 Axes>"
            ]
          },
          "metadata": {
            "needs_background": "light"
          }
        }
      ]
    },
    {
      "cell_type": "code",
      "metadata": {
        "colab": {
          "base_uri": "https://localhost:8080/",
          "height": 282
        },
        "id": "uD9Hp__7NjyV",
        "outputId": "b04d820a-157e-4d81-c976-1aea45e52a2c"
      },
      "source": [
        "df.glucose.plot.box()"
      ],
      "execution_count": 54,
      "outputs": [
        {
          "output_type": "execute_result",
          "data": {
            "text/plain": [
              "<matplotlib.axes._subplots.AxesSubplot at 0x7f3395ab8710>"
            ]
          },
          "metadata": {},
          "execution_count": 54
        },
        {
          "output_type": "display_data",
          "data": {
            "image/png": "[encoded data removed]",
            "text/plain": [
              "<Figure size 432x288 with 1 Axes>"
            ]
          },
          "metadata": {
            "needs_background": "light"
          }
        }
      ]
    },
    {
      "cell_type": "code",
      "metadata": {
        "id": "V8HLWii0NrJ3"
      },
      "source": [
        "\n",
        "boxcol=['cigsPerDay','totChol','sysBP','diaBP','BMI','heartRate','glucose']"
      ],
      "execution_count": 55,
      "outputs": []
    },
    {
      "cell_type": "code",
      "metadata": {
        "id": "qUYPmU5oOYTT"
      },
      "source": [
        "# Applying log transformation to the data to remove outliers\n",
        "for i in boxcol:\n",
        "  df[i]=np.log(df[i]+1)"
      ],
      "execution_count": 56,
      "outputs": []
    },
    {
      "cell_type": "code",
      "metadata": {
        "colab": {
          "base_uri": "https://localhost:8080/",
          "height": 203
        },
        "id": "lvbvfpFlOi0f",
        "outputId": "f8231a09-9c34-4ff8-f502-515015ca16a9"
      },
      "source": [
        "df.head()"
      ],
      "execution_count": 57,
      "outputs": [
        {
          "output_type": "execute_result",
          "data": {
            "text/html": [
              "<div>\n",
              "<style scoped>\n",
              "    .dataframe tbody tr th:only-of-type {\n",
              "        vertical-align: middle;\n",
              "    }\n",
              "\n",
              "    .dataframe tbody tr th {\n",
              "        vertical-align: top;\n",
              "    }\n",
              "\n",
              "    .dataframe thead th {\n",
              "        text-align: right;\n",
              "    }\n",
              "</style>\n",
              "<table border=\"1\" class=\"dataframe\">\n",
              "  <thead>\n",
              "    <tr style=\"text-align: right;\">\n",
              "      <th></th>\n",
              "      <th>age</th>\n",
              "      <th>sex</th>\n",
              "      <th>is_smoking</th>\n",
              "      <th>cigsPerDay</th>\n",
              "      <th>BPMeds</th>\n",
              "      <th>prevalentStroke</th>\n",
              "      <th>prevalentHyp</th>\n",
              "      <th>diabetes</th>\n",
              "      <th>totChol</th>\n",
              "      <th>sysBP</th>\n",
              "      <th>diaBP</th>\n",
              "      <th>BMI</th>\n",
              "      <th>heartRate</th>\n",
              "      <th>glucose</th>\n",
              "      <th>TenYearCHD</th>\n",
              "    </tr>\n",
              "  </thead>\n",
              "  <tbody>\n",
              "    <tr>\n",
              "      <th>0</th>\n",
              "      <td>64</td>\n",
              "      <td>F</td>\n",
              "      <td>YES</td>\n",
              "      <td>1.386294</td>\n",
              "      <td>0.0</td>\n",
              "      <td>0</td>\n",
              "      <td>0</td>\n",
              "      <td>0</td>\n",
              "      <td>5.402677</td>\n",
              "      <td>5.003946</td>\n",
              "      <td>4.454347</td>\n",
              "      <td>3.288214</td>\n",
              "      <td>4.510860</td>\n",
              "      <td>4.394449</td>\n",
              "      <td>1</td>\n",
              "    </tr>\n",
              "    <tr>\n",
              "      <th>1</th>\n",
              "      <td>36</td>\n",
              "      <td>M</td>\n",
              "      <td>NO</td>\n",
              "      <td>0.000000</td>\n",
              "      <td>0.0</td>\n",
              "      <td>0</td>\n",
              "      <td>1</td>\n",
              "      <td>0</td>\n",
              "      <td>5.361292</td>\n",
              "      <td>5.129899</td>\n",
              "      <td>4.595120</td>\n",
              "      <td>3.426540</td>\n",
              "      <td>4.290459</td>\n",
              "      <td>4.330733</td>\n",
              "      <td>0</td>\n",
              "    </tr>\n",
              "    <tr>\n",
              "      <th>2</th>\n",
              "      <td>46</td>\n",
              "      <td>F</td>\n",
              "      <td>YES</td>\n",
              "      <td>2.397895</td>\n",
              "      <td>0.0</td>\n",
              "      <td>0</td>\n",
              "      <td>0</td>\n",
              "      <td>0</td>\n",
              "      <td>5.525453</td>\n",
              "      <td>4.762174</td>\n",
              "      <td>4.276666</td>\n",
              "      <td>3.061052</td>\n",
              "      <td>4.488636</td>\n",
              "      <td>4.553877</td>\n",
              "      <td>0</td>\n",
              "    </tr>\n",
              "    <tr>\n",
              "      <th>3</th>\n",
              "      <td>50</td>\n",
              "      <td>M</td>\n",
              "      <td>YES</td>\n",
              "      <td>3.044522</td>\n",
              "      <td>0.0</td>\n",
              "      <td>0</td>\n",
              "      <td>1</td>\n",
              "      <td>0</td>\n",
              "      <td>5.455321</td>\n",
              "      <td>5.068904</td>\n",
              "      <td>4.488636</td>\n",
              "      <td>3.376221</td>\n",
              "      <td>4.234107</td>\n",
              "      <td>4.553877</td>\n",
              "      <td>1</td>\n",
              "    </tr>\n",
              "    <tr>\n",
              "      <th>4</th>\n",
              "      <td>64</td>\n",
              "      <td>F</td>\n",
              "      <td>YES</td>\n",
              "      <td>3.433987</td>\n",
              "      <td>0.0</td>\n",
              "      <td>0</td>\n",
              "      <td>0</td>\n",
              "      <td>0</td>\n",
              "      <td>5.488938</td>\n",
              "      <td>4.923624</td>\n",
              "      <td>4.454347</td>\n",
              "      <td>3.311273</td>\n",
              "      <td>4.262680</td>\n",
              "      <td>4.356709</td>\n",
              "      <td>0</td>\n",
              "    </tr>\n",
              "  </tbody>\n",
              "</table>\n",
              "</div>"
            ],
            "text/plain": [
              "   age sex is_smoking  cigsPerDay  ...       BMI  heartRate   glucose  TenYearCHD\n",
              "0   64   F        YES    1.386294  ...  3.288214   4.510860  4.394449           1\n",
              "1   36   M         NO    0.000000  ...  3.426540   4.290459  4.330733           0\n",
              "2   46   F        YES    2.397895  ...  3.061052   4.488636  4.553877           0\n",
              "3   50   M        YES    3.044522  ...  3.376221   4.234107  4.553877           1\n",
              "4   64   F        YES    3.433987  ...  3.311273   4.262680  4.356709           0\n",
              "\n",
              "[5 rows x 15 columns]"
            ]
          },
          "metadata": {},
          "execution_count": 57
        }
      ]
    },
    {
      "cell_type": "code",
      "metadata": {
        "colab": {
          "base_uri": "https://localhost:8080/",
          "height": 299
        },
        "id": "GHASEyDpOfS8",
        "outputId": "ff3e9cdb-eb87-4003-ba93-6006e028667c"
      },
      "source": [
        "# Count plot \n",
        "sns.countplot(x='TenYearCHD',data=df,palette='Set1')\n"
      ],
      "execution_count": 58,
      "outputs": [
        {
          "output_type": "execute_result",
          "data": {
            "text/plain": [
              "<matplotlib.axes._subplots.AxesSubplot at 0x7f33982a3110>"
            ]
          },
          "metadata": {},
          "execution_count": 58
        },
        {
          "output_type": "display_data",
          "data": {
            "image/png": "[encoded data removed]",
            "text/plain": [
              "<Figure size 432x288 with 1 Axes>"
            ]
          },
          "metadata": {
            "needs_background": "light"
          }
        }
      ]
    },
    {
      "cell_type": "code",
      "metadata": {
        "id": "nMAD04YDZI9a"
      },
      "source": [
        "# Label encoding using lamba function\n",
        "df['sex']=df['sex'].apply (lambda x:0 if x=='F' else 1 )\n",
        "df['is_smoking']=df['is_smoking'].apply (lambda x:0 if x=='NO' else 1 )"
      ],
      "execution_count": 59,
      "outputs": []
    },
    {
      "cell_type": "code",
      "metadata": {
        "colab": {
          "base_uri": "https://localhost:8080/"
        },
        "id": "ne2vWxtdmf_K",
        "outputId": "ddd3a707-5e03-4a16-aa64-64affe6f8cf9"
      },
      "source": [
        "df.columns"
      ],
      "execution_count": 60,
      "outputs": [
        {
          "output_type": "execute_result",
          "data": {
            "text/plain": [
              "Index(['age', 'sex', 'is_smoking', 'cigsPerDay', 'BPMeds', 'prevalentStroke',\n",
              "       'prevalentHyp', 'diabetes', 'totChol', 'sysBP', 'diaBP', 'BMI',\n",
              "       'heartRate', 'glucose', 'TenYearCHD'],\n",
              "      dtype='object')"
            ]
          },
          "metadata": {},
          "execution_count": 60
        }
      ]
    },
    {
      "cell_type": "code",
      "metadata": {
        "id": "_JUax1IJTIbQ"
      },
      "source": [
        "# Applying SMOTE to over sample the data\n",
        "from imblearn.over_sampling import SMOTE\n",
        "smote = SMOTE(random_state=101)\n",
        "\n",
        "# fit predictor and target variable\n",
        "X, y = smote.fit_resample(df[['age', 'sex', 'is_smoking', 'cigsPerDay', 'BPMeds', 'prevalentStroke','prevalentHyp', 'diabetes', 'totChol', 'sysBP', 'diaBP', 'BMI','heartRate', 'glucose']], df['TenYearCHD'])\n"
      ],
      "execution_count": 61,
      "outputs": []
    },
    {
      "cell_type": "code",
      "metadata": {
        "id": "DqZylxQrXg4x"
      },
      "source": [
        "# Creating a new oversampled dataframe\n",
        "newdf=pd.DataFrame(X,columns=['age', 'sex', 'is_smoking', 'cigsPerDay', 'BPMeds', 'prevalentStroke','prevalentHyp', 'diabetes', 'totChol', 'sysBP', 'diaBP', 'BMI','heartRate', 'glucose'])\n",
        "newdf['TenYearCHD']=y"
      ],
      "execution_count": 101,
      "outputs": []
    },
    {
      "cell_type": "code",
      "metadata": {
        "colab": {
          "base_uri": "https://localhost:8080/",
          "height": 299
        },
        "id": "WjAI_d75nSyy",
        "outputId": "19d414e7-2840-4933-bb61-c5fd4722aa8f"
      },
      "source": [
        "# Count plot ot check the balance of the data\n",
        "sns.countplot(newdf['TenYearCHD'])"
      ],
      "execution_count": 102,
      "outputs": [
        {
          "output_type": "execute_result",
          "data": {
            "text/plain": [
              "<matplotlib.axes._subplots.AxesSubplot at 0x7f33b92565d0>"
            ]
          },
          "metadata": {},
          "execution_count": 102
        },
        {
          "output_type": "display_data",
          "data": {
            "image/png": "[encoded data removed]",
            "text/plain": [
              "<Figure size 432x288 with 1 Axes>"
            ]
          },
          "metadata": {
            "needs_background": "light"
          }
        }
      ]
    },
    {
      "cell_type": "code",
      "metadata": {
        "colab": {
          "base_uri": "https://localhost:8080/",
          "height": 790
        },
        "id": "JEpkjPtGnhR7",
        "outputId": "cf54c4c3-0bb5-4125-b14c-168bb9cdfd4f"
      },
      "source": [
        "# Heatmap to see the correlation among the variables\n",
        "plt.figure(figsize=(15,12))\n",
        "correlation = newdf.corr()\n",
        "sns.heatmap(correlation, annot=True, cmap='coolwarm')"
      ],
      "execution_count": 64,
      "outputs": [
        {
          "output_type": "execute_result",
          "data": {
            "text/plain": [
              "<matplotlib.axes._subplots.AxesSubplot at 0x7f33980fe750>"
            ]
          },
          "metadata": {},
          "execution_count": 64
        },
        {
          "output_type": "display_data",
          "data": {
            "image/png": "[encoded data removed]",
            "text/plain": [
              "<Figure size 1080x864 with 2 Axes>"
            ]
          },
          "metadata": {
            "needs_background": "light"
          }
        }
      ]
    },
    {
      "cell_type": "code",
      "metadata": {
        "colab": {
          "base_uri": "https://localhost:8080/"
        },
        "id": "KNUoGTEnvszL",
        "outputId": "4466a3b1-c6bb-4483-f6d4-f0b393677688"
      },
      "source": [
        "# Preparing the data to scale down\n",
        "newdf.pop(item='TenYearCHD')"
      ],
      "execution_count": 65,
      "outputs": [
        {
          "output_type": "execute_result",
          "data": {
            "text/plain": [
              "0       1\n",
              "1       0\n",
              "2       0\n",
              "3       1\n",
              "4       0\n",
              "       ..\n",
              "5753    1\n",
              "5754    1\n",
              "5755    1\n",
              "5756    1\n",
              "5757    1\n",
              "Name: TenYearCHD, Length: 5758, dtype: int64"
            ]
          },
          "metadata": {},
          "execution_count": 65
        }
      ]
    },
    {
      "cell_type": "code",
      "metadata": {
        "id": "QPbeoCMJr6qb"
      },
      "source": [
        "# Applying standard scaler\n",
        "from sklearn.preprocessing import StandardScaler\n",
        "ss=StandardScaler()\n"
      ],
      "execution_count": 66,
      "outputs": []
    },
    {
      "cell_type": "code",
      "metadata": {
        "id": "g0-kw7RPwao8"
      },
      "source": [
        "df=ss.fit_transform(newdf)\n",
        "df=pd.DataFrame(df,columns=['age','sex', 'is_smoking', 'cigsPerDay', 'BPMeds', 'prevalentStroke','prevalentHyp', 'diabetes', 'totChol', 'sysBP', 'diaBP', 'BMI','heartRate', 'glucose'])"
      ],
      "execution_count": 67,
      "outputs": []
    },
    {
      "cell_type": "code",
      "metadata": {
        "id": "xTjojLxzzG9E"
      },
      "source": [
        "df['TenYearCHD']=y"
      ],
      "execution_count": 68,
      "outputs": []
    },
    {
      "cell_type": "code",
      "metadata": {
        "colab": {
          "base_uri": "https://localhost:8080/",
          "height": 203
        },
        "id": "iGFxC1ObzIUr",
        "outputId": "0996fbbf-6808-4e8f-a7fc-957f42973a92"
      },
      "source": [
        "df.head()"
      ],
      "execution_count": 69,
      "outputs": [
        {
          "output_type": "execute_result",
          "data": {
            "text/html": [
              "<div>\n",
              "<style scoped>\n",
              "    .dataframe tbody tr th:only-of-type {\n",
              "        vertical-align: middle;\n",
              "    }\n",
              "\n",
              "    .dataframe tbody tr th {\n",
              "        vertical-align: top;\n",
              "    }\n",
              "\n",
              "    .dataframe thead th {\n",
              "        text-align: right;\n",
              "    }\n",
              "</style>\n",
              "<table border=\"1\" class=\"dataframe\">\n",
              "  <thead>\n",
              "    <tr style=\"text-align: right;\">\n",
              "      <th></th>\n",
              "      <th>age</th>\n",
              "      <th>sex</th>\n",
              "      <th>is_smoking</th>\n",
              "      <th>cigsPerDay</th>\n",
              "      <th>BPMeds</th>\n",
              "      <th>prevalentStroke</th>\n",
              "      <th>prevalentHyp</th>\n",
              "      <th>diabetes</th>\n",
              "      <th>totChol</th>\n",
              "      <th>sysBP</th>\n",
              "      <th>diaBP</th>\n",
              "      <th>BMI</th>\n",
              "      <th>heartRate</th>\n",
              "      <th>glucose</th>\n",
              "      <th>TenYearCHD</th>\n",
              "    </tr>\n",
              "  </thead>\n",
              "  <tbody>\n",
              "    <tr>\n",
              "      <th>0</th>\n",
              "      <td>1.465104</td>\n",
              "      <td>-0.970414</td>\n",
              "      <td>0.976814</td>\n",
              "      <td>-0.037342</td>\n",
              "      <td>-0.201823</td>\n",
              "      <td>-0.094774</td>\n",
              "      <td>-0.807588</td>\n",
              "      <td>-0.193307</td>\n",
              "      <td>-0.390803</td>\n",
              "      <td>0.587693</td>\n",
              "      <td>0.132184</td>\n",
              "      <td>0.018580</td>\n",
              "      <td>1.274809</td>\n",
              "      <td>-0.073888</td>\n",
              "      <td>1</td>\n",
              "    </tr>\n",
              "    <tr>\n",
              "      <th>1</th>\n",
              "      <td>-1.778117</td>\n",
              "      <td>1.078124</td>\n",
              "      <td>-1.027241</td>\n",
              "      <td>-0.970338</td>\n",
              "      <td>-0.201823</td>\n",
              "      <td>-0.094774</td>\n",
              "      <td>1.288525</td>\n",
              "      <td>-0.193307</td>\n",
              "      <td>-0.625590</td>\n",
              "      <td>1.380177</td>\n",
              "      <td>1.137060</td>\n",
              "      <td>0.997282</td>\n",
              "      <td>-0.291699</td>\n",
              "      <td>-0.384969</td>\n",
              "      <td>0</td>\n",
              "    </tr>\n",
              "    <tr>\n",
              "      <th>2</th>\n",
              "      <td>-0.619824</td>\n",
              "      <td>-0.970414</td>\n",
              "      <td>0.976814</td>\n",
              "      <td>0.643479</td>\n",
              "      <td>-0.201823</td>\n",
              "      <td>-0.094774</td>\n",
              "      <td>-0.807588</td>\n",
              "      <td>-0.193307</td>\n",
              "      <td>0.305731</td>\n",
              "      <td>-0.933524</td>\n",
              "      <td>-1.136157</td>\n",
              "      <td>-1.588665</td>\n",
              "      <td>1.116857</td>\n",
              "      <td>0.704488</td>\n",
              "      <td>0</td>\n",
              "    </tr>\n",
              "    <tr>\n",
              "      <th>3</th>\n",
              "      <td>-0.156506</td>\n",
              "      <td>1.078124</td>\n",
              "      <td>0.976814</td>\n",
              "      <td>1.078668</td>\n",
              "      <td>-0.201823</td>\n",
              "      <td>-0.094774</td>\n",
              "      <td>1.288525</td>\n",
              "      <td>-0.193307</td>\n",
              "      <td>-0.092143</td>\n",
              "      <td>0.996403</td>\n",
              "      <td>0.376949</td>\n",
              "      <td>0.641261</td>\n",
              "      <td>-0.692231</td>\n",
              "      <td>0.704488</td>\n",
              "      <td>1</td>\n",
              "    </tr>\n",
              "    <tr>\n",
              "      <th>4</th>\n",
              "      <td>1.465104</td>\n",
              "      <td>-0.970414</td>\n",
              "      <td>0.976814</td>\n",
              "      <td>1.340783</td>\n",
              "      <td>-0.201823</td>\n",
              "      <td>-0.094774</td>\n",
              "      <td>-0.807588</td>\n",
              "      <td>-0.193307</td>\n",
              "      <td>0.098572</td>\n",
              "      <td>0.082309</td>\n",
              "      <td>0.132184</td>\n",
              "      <td>0.181728</td>\n",
              "      <td>-0.489144</td>\n",
              "      <td>-0.258148</td>\n",
              "      <td>0</td>\n",
              "    </tr>\n",
              "  </tbody>\n",
              "</table>\n",
              "</div>"
            ],
            "text/plain": [
              "        age       sex  is_smoking  ...  heartRate   glucose  TenYearCHD\n",
              "0  1.465104 -0.970414    0.976814  ...   1.274809 -0.073888           1\n",
              "1 -1.778117  1.078124   -1.027241  ...  -0.291699 -0.384969           0\n",
              "2 -0.619824 -0.970414    0.976814  ...   1.116857  0.704488           0\n",
              "3 -0.156506  1.078124    0.976814  ...  -0.692231  0.704488           1\n",
              "4  1.465104 -0.970414    0.976814  ...  -0.489144 -0.258148           0\n",
              "\n",
              "[5 rows x 15 columns]"
            ]
          },
          "metadata": {},
          "execution_count": 69
        }
      ]
    },
    {
      "cell_type": "code",
      "metadata": {
        "id": "dRj0OyeXzOXk"
      },
      "source": [
        "# Splitting the data into train and test data\n",
        "from sklearn.model_selection import train_test_split\n",
        "x=df.iloc[:,:-1]\n",
        "y=df.iloc[:,-1:]\n"
      ],
      "execution_count": 70,
      "outputs": []
    },
    {
      "cell_type": "code",
      "metadata": {
        "id": "cClyHS20z7bg"
      },
      "source": [
        "x_train,x_test,y_train,y_test=train_test_split(x,y,random_state=5)"
      ],
      "execution_count": 71,
      "outputs": []
    },
    {
      "cell_type": "markdown",
      "metadata": {
        "id": "R1UTmvR2U3Xb"
      },
      "source": [
        "# **Logistic Regression Model**"
      ]
    },
    {
      "cell_type": "code",
      "metadata": {
        "colab": {
          "base_uri": "https://localhost:8080/"
        },
        "id": "D2AS63CXz_2b",
        "outputId": "729059a0-525d-4dc8-e923-0afff1a38e9d"
      },
      "source": [
        "from sklearn.linear_model import LogisticRegression\n",
        "\n",
        "clf = LogisticRegression(fit_intercept=True, max_iter=1000)\n",
        "clf.fit(x_train, y_train)"
      ],
      "execution_count": 72,
      "outputs": [
        {
          "output_type": "execute_result",
          "data": {
            "text/plain": [
              "LogisticRegression(C=1.0, class_weight=None, dual=False, fit_intercept=True,\n",
              "                   intercept_scaling=1, l1_ratio=None, max_iter=1000,\n",
              "                   multi_class='auto', n_jobs=None, penalty='l2',\n",
              "                   random_state=None, solver='lbfgs', tol=0.0001, verbose=0,\n",
              "                   warm_start=False)"
            ]
          },
          "metadata": {},
          "execution_count": 72
        }
      ]
    },
    {
      "cell_type": "code",
      "metadata": {
        "id": "ezO41RW10ziP"
      },
      "source": [
        "predict=clf.predict(x_test)\n",
        "predict1=clf.predict(x_train)"
      ],
      "execution_count": 103,
      "outputs": []
    },
    {
      "cell_type": "code",
      "metadata": {
        "id": "9t4eXYZE1IWq"
      },
      "source": [
        "from sklearn.metrics import accuracy_score, confusion_matrix,precision_score,recall_score,classification_report,f1_score\n"
      ],
      "execution_count": 104,
      "outputs": []
    },
    {
      "cell_type": "code",
      "metadata": {
        "colab": {
          "base_uri": "https://localhost:8080/"
        },
        "id": "X6NYL2Hr1o6m",
        "outputId": "739200bc-0e63-454a-9324-e9d01988b2d0"
      },
      "source": [
        "# Evaluating logistic regression model using the metrics\n",
        "test_accuracy = accuracy_score(y_test,predict)\n",
        "cm = confusion_matrix(y_test,predict)\n",
        "print(\"The accuracy of test data is\", test_accuracy*100,'%')\n",
        "print(\"The precision of test data is\", precision_score(y_test,predict)*100 ,'%')\n",
        "print(\"The recall of test data is\", recall_score(y_test,predict)*100,'%')\n",
        "\n"
      ],
      "execution_count": 107,
      "outputs": [
        {
          "output_type": "stream",
          "name": "stdout",
          "text": [
            "The accuracy of test data is 65.41666666666667 %\n",
            "The precision of test data is 66.33941093969145 %\n",
            "The recall of test data is 64.70588235294117 %\n"
          ]
        }
      ]
    },
    {
      "cell_type": "code",
      "metadata": {
        "colab": {
          "base_uri": "https://localhost:8080/"
        },
        "id": "0z0WkvY42oBW",
        "outputId": "3966ec21-379f-4e5d-8629-a23eb4766bcb"
      },
      "source": [
        "print('The Confusion Matrix for test data is: \\n',confusion_matrix(y_test,predict))"
      ],
      "execution_count": 108,
      "outputs": [
        {
          "output_type": "stream",
          "name": "stdout",
          "text": [
            "The Confusion Matrix for test data is: \n",
            " [[469 240]\n",
            " [258 473]]\n"
          ]
        }
      ]
    },
    {
      "cell_type": "code",
      "metadata": {
        "id": "JPyad5Kj6eE6"
      },
      "source": [
        "# Hyper parameter tuning\n",
        "from sklearn.model_selection import RepeatedStratifiedKFold\n",
        "from sklearn.model_selection import GridSearchCV,RandomizedSearchCV"
      ],
      "execution_count": 109,
      "outputs": []
    },
    {
      "cell_type": "code",
      "metadata": {
        "id": "MvqSCm5f3UN2"
      },
      "source": [
        "\n",
        "solvers = ['newton-cg', 'lbfgs', 'liblinear']\n",
        "penalty = ['l2']\n",
        "c_values = [100, 10, 1.0, 0.1, 0.01]\n",
        "# define grid search\n",
        "grid = dict(solver=solvers,penalty=penalty,C=c_values)\n",
        "cv = RepeatedStratifiedKFold(n_splits=10, n_repeats=3, random_state=1)\n",
        "grid_search = GridSearchCV(estimator=clf, param_grid=grid, n_jobs=-1, cv=cv, scoring='accuracy',error_score=0)\n"
      ],
      "execution_count": 110,
      "outputs": []
    },
    {
      "cell_type": "code",
      "metadata": {
        "colab": {
          "base_uri": "https://localhost:8080/"
        },
        "id": "gRUfgl2B6XIk",
        "outputId": "17831c5a-9953-492a-f1af-6b3f7afe3f5b"
      },
      "source": [
        "grid_result = grid_search.fit(x, y)\n",
        "print(\"Best accuracy score: %f using %s\" % (grid_result.best_score_, grid_result.best_params_))"
      ],
      "execution_count": 111,
      "outputs": [
        {
          "output_type": "stream",
          "name": "stdout",
          "text": [
            "Best accuracy score: 0.662271 using {'C': 0.01, 'penalty': 'l2', 'solver': 'newton-cg'}\n"
          ]
        }
      ]
    },
    {
      "cell_type": "markdown",
      "metadata": {
        "id": "sYLa1zFeVfKZ"
      },
      "source": [
        "# **K Nearest Neighbor Model**"
      ]
    },
    {
      "cell_type": "code",
      "metadata": {
        "id": "7ouYoNJt2y6P"
      },
      "source": [
        "# Import KNeighborsClassifier\n",
        "from sklearn.neighbors import KNeighborsClassifier\n",
        "\n",
        "#Setup arrays to store training and test accuracies\n",
        "neighbors = np.arange(1,12)\n",
        "train_accuracy =np.empty(len(neighbors))\n",
        "test_accuracy = np.empty(len(neighbors))\n",
        "\n",
        "for i,k in enumerate(neighbors):\n",
        "    # Setup a knn classifier with k neighbors\n",
        "    knn = KNeighborsClassifier(n_neighbors=k)\n",
        "    \n",
        "    # Fit the model\n",
        "    knn.fit(x_train, y_train)\n",
        "    \n",
        "    # Compute accuracy on the training set\n",
        "    train_accuracy[i] = knn.score(x_train, y_train)\n",
        "    \n",
        "    # Compute accuracy on the test set\n",
        "    test_accuracy[i] = knn.score(x_test, y_test) "
      ],
      "execution_count": 112,
      "outputs": []
    },
    {
      "cell_type": "code",
      "metadata": {
        "colab": {
          "base_uri": "https://localhost:8080/",
          "height": 279
        },
        "id": "1LhOAMkd2y0h",
        "outputId": "9bf43bbe-9b16-429d-8c88-458465dd3646"
      },
      "source": [
        "# Generate plot of test accuracy and train accuracy to determine k value\n",
        "\n",
        "plt.plot(neighbors, test_accuracy, label='Testing Accuracy')\n",
        "plt.plot(neighbors, train_accuracy, label='Training accuracy')\n",
        "plt.legend()\n",
        "plt.xlabel('Number of neighbors')\n",
        "plt.ylabel('Accuracy')\n",
        "plt.show()"
      ],
      "execution_count": 113,
      "outputs": [
        {
          "output_type": "display_data",
          "data": {
            "image/png": "[encoded data removed]",
            "text/plain": [
              "<Figure size 432x288 with 1 Axes>"
            ]
          },
          "metadata": {
            "needs_background": "light"
          }
        }
      ]
    },
    {
      "cell_type": "code",
      "metadata": {
        "id": "yRyWizKBBe5n"
      },
      "source": [
        "knn = KNeighborsClassifier(n_neighbors=9)"
      ],
      "execution_count": 129,
      "outputs": []
    },
    {
      "cell_type": "code",
      "metadata": {
        "colab": {
          "base_uri": "https://localhost:8080/"
        },
        "id": "ItfPAOnTC1Kt",
        "outputId": "6bec5bcc-2a59-45ad-8b3f-8e794f36e376"
      },
      "source": [
        "# Fitting the model\n",
        "\n",
        "knn.fit(x_train,y_train)"
      ],
      "execution_count": 130,
      "outputs": [
        {
          "output_type": "execute_result",
          "data": {
            "text/plain": [
              "KNeighborsClassifier(algorithm='auto', leaf_size=30, metric='minkowski',\n",
              "                     metric_params=None, n_jobs=None, n_neighbors=9, p=2,\n",
              "                     weights='uniform')"
            ]
          },
          "metadata": {},
          "execution_count": 130
        }
      ]
    },
    {
      "cell_type": "code",
      "metadata": {
        "id": "_FauaFVoDD1F"
      },
      "source": [
        "# Predicting the values of y_test \n",
        "y_pred = knn.predict(x_test)"
      ],
      "execution_count": 145,
      "outputs": []
    },
    {
      "cell_type": "code",
      "metadata": {
        "colab": {
          "base_uri": "https://localhost:8080/"
        },
        "id": "GW_dOdHDQusL",
        "outputId": "c97e0c9f-a08b-4d56-f5ac-bd859557657d"
      },
      "source": [
        "# Evaluating KNN model using the metrics\n",
        "print('The accuracy score of knn model is ',knn.score(x_test,y_test)*100,'%')\n",
        "print('The precision score of knn model is ',precision_score(y_test,y_pred)*100,'%')\n",
        "print('The recall score of knn model is ',recall_score(y_test,y_pred)*100,'%')"
      ],
      "execution_count": 146,
      "outputs": [
        {
          "output_type": "stream",
          "name": "stdout",
          "text": [
            "The accuracy score of knn model is  73.47222222222223 %\n",
            "The precision score of knn model is  68.98803046789989 %\n",
            "The recall score of knn model is  86.73050615595075 %\n"
          ]
        }
      ]
    },
    {
      "cell_type": "code",
      "metadata": {
        "colab": {
          "base_uri": "https://localhost:8080/"
        },
        "id": "LuYV8H6gDGCM",
        "outputId": "1bbdf07e-f2d0-49e2-931c-085850e71328"
      },
      "source": [
        "confusion_matrix(y_test,y_pred)"
      ],
      "execution_count": 118,
      "outputs": [
        {
          "output_type": "execute_result",
          "data": {
            "text/plain": [
              "array([[424, 285],\n",
              "       [ 97, 634]])"
            ]
          },
          "metadata": {},
          "execution_count": 118
        }
      ]
    },
    {
      "cell_type": "code",
      "metadata": {
        "id": "D83zf0bEDN1E"
      },
      "source": [
        "param_grid = {'n_neighbors':np.arange(1,50)}"
      ],
      "execution_count": 119,
      "outputs": []
    },
    {
      "cell_type": "code",
      "metadata": {
        "colab": {
          "base_uri": "https://localhost:8080/"
        },
        "id": "f-puLFjVDQlt",
        "outputId": "f2e10009-f05b-40e3-caa4-fa96269360e8"
      },
      "source": [
        "# Hyper parameter tuning\n",
        "knn = KNeighborsClassifier()\n",
        "knn_cv= GridSearchCV(knn,param_grid,cv=5)\n",
        "knn_cv.fit(x,y)"
      ],
      "execution_count": 120,
      "outputs": [
        {
          "output_type": "execute_result",
          "data": {
            "text/plain": [
              "GridSearchCV(cv=5, error_score=nan,\n",
              "             estimator=KNeighborsClassifier(algorithm='auto', leaf_size=30,\n",
              "                                            metric='minkowski',\n",
              "                                            metric_params=None, n_jobs=None,\n",
              "                                            n_neighbors=5, p=2,\n",
              "                                            weights='uniform'),\n",
              "             iid='deprecated', n_jobs=None,\n",
              "             param_grid={'n_neighbors': array([ 1,  2,  3,  4,  5,  6,  7,  8,  9, 10, 11, 12, 13, 14, 15, 16, 17,\n",
              "       18, 19, 20, 21, 22, 23, 24, 25, 26, 27, 28, 29, 30, 31, 32, 33, 34,\n",
              "       35, 36, 37, 38, 39, 40, 41, 42, 43, 44, 45, 46, 47, 48, 49])},\n",
              "             pre_dispatch='2*n_jobs', refit=True, return_train_score=False,\n",
              "             scoring=None, verbose=0)"
            ]
          },
          "metadata": {},
          "execution_count": 120
        }
      ]
    },
    {
      "cell_type": "code",
      "metadata": {
        "colab": {
          "base_uri": "https://localhost:8080/"
        },
        "id": "yqQBwCvtDTE8",
        "outputId": "c1cce94f-4b5f-457c-eb7c-7a557e6e736e"
      },
      "source": [
        "# Best possible score\n",
        "knn_cv.best_score_"
      ],
      "execution_count": 121,
      "outputs": [
        {
          "output_type": "execute_result",
          "data": {
            "text/plain": [
              "0.8520332561058017"
            ]
          },
          "metadata": {},
          "execution_count": 121
        }
      ]
    },
    {
      "cell_type": "code",
      "metadata": {
        "colab": {
          "base_uri": "https://localhost:8080/"
        },
        "id": "Jj7G98GgDT4Q",
        "outputId": "be3bc249-6c09-4828-d70b-a45fd1df4efc"
      },
      "source": [
        "# Best parameters to train data\n",
        "knn_cv.best_params_"
      ],
      "execution_count": 122,
      "outputs": [
        {
          "output_type": "execute_result",
          "data": {
            "text/plain": [
              "{'n_neighbors': 2}"
            ]
          },
          "metadata": {},
          "execution_count": 122
        }
      ]
    },
    {
      "cell_type": "markdown",
      "metadata": {
        "id": "Ye8edHlwWqEl"
      },
      "source": [
        "# **Random Forest Classifier Model**"
      ]
    },
    {
      "cell_type": "code",
      "metadata": {
        "id": "GGQkbq5GGd4P"
      },
      "source": [
        "from sklearn.ensemble import RandomForestClassifier"
      ],
      "execution_count": 124,
      "outputs": []
    },
    {
      "cell_type": "code",
      "metadata": {
        "id": "ZNg-ceJKPBgP"
      },
      "source": [
        "X_train, X_test, Y_train, Y_test = train_test_split(x, y, test_size = 0.2, random_state = 0, stratify = y)"
      ],
      "execution_count": 138,
      "outputs": []
    },
    {
      "cell_type": "code",
      "metadata": {
        "id": "pu56jwzbEHcU"
      },
      "source": [
        "classifier = RandomForestClassifier(random_state=0)\n",
        "grid_values = {'n_estimators':[50,80,100], 'max_depth':[3, 5, 7]}\n",
        "classifier = GridSearchCV(classifier, param_grid = grid_values,scoring='roc_auc', cv=5)"
      ],
      "execution_count": 139,
      "outputs": []
    },
    {
      "cell_type": "code",
      "metadata": {
        "colab": {
          "base_uri": "https://localhost:8080/"
        },
        "id": "UFmFWvUGLPa-",
        "outputId": "9f9fea24-97fb-41ed-9a20-e2ef0169e645"
      },
      "source": [
        "# Fitting the model\n",
        "classifier.fit(x,y)"
      ],
      "execution_count": 140,
      "outputs": [
        {
          "output_type": "execute_result",
          "data": {
            "text/plain": [
              "GridSearchCV(cv=5, error_score=nan,\n",
              "             estimator=RandomForestClassifier(bootstrap=True, ccp_alpha=0.0,\n",
              "                                              class_weight=None,\n",
              "                                              criterion='gini', max_depth=None,\n",
              "                                              max_features='auto',\n",
              "                                              max_leaf_nodes=None,\n",
              "                                              max_samples=None,\n",
              "                                              min_impurity_decrease=0.0,\n",
              "                                              min_impurity_split=None,\n",
              "                                              min_samples_leaf=1,\n",
              "                                              min_samples_split=2,\n",
              "                                              min_weight_fraction_leaf=0.0,\n",
              "                                              n_estimators=100, n_jobs=None,\n",
              "                                              oob_score=False, random_state=0,\n",
              "                                              verbose=0, warm_start=False),\n",
              "             iid='deprecated', n_jobs=None,\n",
              "             param_grid={'max_depth': [3, 5, 7], 'n_estimators': [50, 80, 100]},\n",
              "             pre_dispatch='2*n_jobs', refit=True, return_train_score=False,\n",
              "             scoring='roc_auc', verbose=0)"
            ]
          },
          "metadata": {},
          "execution_count": 140
        }
      ]
    },
    {
      "cell_type": "code",
      "metadata": {
        "colab": {
          "base_uri": "https://localhost:8080/"
        },
        "id": "ffFYBcq3UuA4",
        "outputId": "6d69e68b-81c4-4706-e534-a81425b5304f"
      },
      "source": [
        "# Evaluating the model using metrics\n",
        "pred=classifier.predict(X_test)\n",
        "\n",
        "print('The accuracy of the Random Forest model is',round((accuracy_score(Y_test,pred)*100),2) ,'%')\n",
        "print('The precision of the Random Forest model is',round((precision_score(Y_test,pred)*100),2) ,'%')\n",
        "print('The recall of the Random Forest model is',round((recall_score(Y_test,pred)*100),2) ,'%')"
      ],
      "execution_count": 141,
      "outputs": [
        {
          "output_type": "stream",
          "name": "stdout",
          "text": [
            "The accuracy of the Random Forest model is 82.9 %\n",
            "The precision of the Random Forest model is 82.5 %\n",
            "The recall of the Random Forest model is 83.51 %\n"
          ]
        }
      ]
    },
    {
      "cell_type": "code",
      "metadata": {
        "colab": {
          "base_uri": "https://localhost:8080/"
        },
        "id": "Jc29K319ZL_U",
        "outputId": "c5d8959e-561b-469f-d8d6-c30315f00c4b"
      },
      "source": [
        "print('The Confusion matrix of Random forest model is \\n',confusion_matrix(Y_test,pred))"
      ],
      "execution_count": 142,
      "outputs": [
        {
          "output_type": "stream",
          "name": "stdout",
          "text": [
            "The Confusion matrix of Random forest model is \n",
            " [[474 102]\n",
            " [ 95 481]]\n"
          ]
        }
      ]
    },
    {
      "cell_type": "code",
      "metadata": {
        "colab": {
          "base_uri": "https://localhost:8080/"
        },
        "id": "4NECmaJqI1gq",
        "outputId": "6fe83276-bb47-4382-ea75-84530db14671"
      },
      "source": [
        "classifier.best_params_"
      ],
      "execution_count": 143,
      "outputs": [
        {
          "output_type": "execute_result",
          "data": {
            "text/plain": [
              "{'max_depth': 7, 'n_estimators': 100}"
            ]
          },
          "metadata": {},
          "execution_count": 143
        }
      ]
    },
    {
      "cell_type": "code",
      "metadata": {
        "colab": {
          "base_uri": "https://localhost:8080/"
        },
        "id": "B-HnzbvhLXr3",
        "outputId": "b5129e46-74ab-433e-ba4b-4c512bf0d0d4"
      },
      "source": [
        "classifier.best_score_"
      ],
      "execution_count": 144,
      "outputs": [
        {
          "output_type": "execute_result",
          "data": {
            "text/plain": [
              "0.8609796709356548"
            ]
          },
          "metadata": {},
          "execution_count": 144
        }
      ]
    },
    {
      "cell_type": "markdown",
      "metadata": {
        "id": "XldrZ9pTXNW7"
      },
      "source": [
        "# **Summary**\n",
        "\n",
        "# 1. Handled majority of the null values by replacing them with mean values and dropped a row which had null value in heartrate column.\n",
        "\n",
        "# 2.Treated the outliers using log transformation.\n",
        "\n",
        "# 3.Handled the imbalanced class by applting SMOTE.\n",
        "\n",
        "# 4.Standard Scaler was used to scale down the data.\n",
        "\n",
        "# 5.Applied 3 machine learning models on the dataset i.e,\n",
        "\n",
        "###- Logistic Regression.\n",
        "###- K Nearest Neighbor.\n",
        "###- Random Forest Classifier.\n",
        "\n",
        "# 6.Hyperparameter tuning was performed on all the models to get best parameters and best scores.\n",
        "\n",
        "# 7.Random Forest Model gave the highest accuracy score among all the three models with accuracy of 82.1 %.\n",
        "\n"
      ]
    }
  ]
}